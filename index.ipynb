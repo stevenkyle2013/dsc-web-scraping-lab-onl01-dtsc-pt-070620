{
 "cells": [
  {
   "cell_type": "markdown",
   "metadata": {},
   "source": [
    "# Web Scraping - Lab\n",
    "\n",
    "## Introduction\n",
    "\n",
    "Now that you've seen a more extensive example of developing a web scraping script, it's time to further practice and formalize that knowledge by writing functions to parse specific pieces of information from the web page and then synthesizing these into a larger loop that will iterate over successive web pages in order to build a complete dataset.\n",
    "\n",
    "## Objectives\n",
    "\n",
    "You will be able to:\n",
    "\n",
    "* Navigate HTML documents using Beautiful Soup's children and sibling relations\n",
    "* Select specific elements from HTML using Beautiful Soup\n",
    "* Use regular expressions to extract items with a certain pattern within Beautiful Soup\n",
    "* Determine the pagination scheme of a website and scrape multiple pages"
   ]
  },
  {
   "cell_type": "markdown",
   "metadata": {},
   "source": [
    "## Lab Overview\n",
    "\n",
    "This lab will build upon the previous lesson. In the end, you'll look to write a script that will iterate over all of the pages for the demo site and extract the title, price, star rating and availability of each book listed. Building up to that, you'll formalize the concepts from the lesson by writing functions that will extract a list of each of these features for each web page. You'll then combine these functions into the full script which will look something like this:  \n",
    "\n",
    "```python\n",
    "df = pd.DataFrame()\n",
    "for i in range(2,51):\n",
    "    url = \"http://books.toscrape.com/catalogue/page-{}.html\".format(i)\n",
    "    soup = BeautifulSoup(html_page.content, 'html.parser')\n",
    "    new_titles = retrieve_titles(soup)\n",
    "    new_star_ratings = retrieve_ratings(soup)\n",
    "    new_prices = retrieve_prices(soup)\n",
    "    new_avails = retrieve_avails(soup)\n",
    "    ...\n",
    " ```"
   ]
  },
  {
   "cell_type": "markdown",
   "metadata": {},
   "source": [
    "## Retrieving Titles\n",
    "\n",
    "To start, write a function that extracts the titles of the books on a given page. The input for the function should be the `soup` for the HTML of the page."
   ]
  },
  {
   "cell_type": "code",
   "execution_count": 25,
   "metadata": {},
   "outputs": [],
   "source": [
    "def retrieve_titles(soup):\n",
    "    warning = soup.find('div', class_=\"alert alert-warning\")\n",
    "    bookcontainer = warning.nextSibling.nextSibling\n",
    "    titles = [h3.find('a').attrs['title'] for h3 in bookcontainer.findAll('h3')]\n",
    "    return titles"
   ]
  },
  {
   "cell_type": "markdown",
   "metadata": {},
   "source": [
    "## Retrieve Ratings\n",
    "\n",
    "Next, write a similar function to retrieve the star ratings on a given page. Again, the function should take in the `soup` from the given HTML page and return a list of the star ratings for the books. These star ratings should be formatted as integers."
   ]
  },
  {
   "cell_type": "code",
   "execution_count": 28,
   "metadata": {},
   "outputs": [],
   "source": [
    "def retrieve_ratings(soup):\n",
    "    warning = soup.find('div', class_=\"alert alert-warning\")\n",
    "    bookcontainer = warning.nextSibling.nextSibling\n",
    "    regex = re.compile(\"star-rating (.*)\")\n",
    "    ratings = []\n",
    "    ratingconv = {'One': 1, 'Two': 2, 'Three':3, 'Four': 4, 'Five':5}\n",
    "    for p in bookcontainer.findAll('p', {'class':regex}):\n",
    "        ratings.append(p.attrs['class'][-1])\n",
    "    ratings = [ratingconv[x] for x in ratings]\n",
    "    return ratings"
   ]
  },
  {
   "cell_type": "markdown",
   "metadata": {},
   "source": [
    "## Retrieve Prices\n",
    "\n",
    "Now write a function to retrieve the prices on a given page. The function should take in the `soup` from the given page and return a list of prices formatted as floats."
   ]
  },
  {
   "cell_type": "code",
   "execution_count": 29,
   "metadata": {},
   "outputs": [],
   "source": [
    "def retrieve_prices(soup):\n",
    "    warning = soup.find('div', class_=\"alert alert-warning\")\n",
    "    bookcontainer = warning.nextSibling.nextSibling\n",
    "    prices = [p.text for p in bookcontainer.findAll('p', class_=\"price_color\")]\n",
    "    prices = [float(p[1:]) for p in prices]\n",
    "    return prices"
   ]
  },
  {
   "cell_type": "markdown",
   "metadata": {},
   "source": [
    "## Retrieve Availability\n",
    "\n",
    "Write a function to retrieve whether each book is available or not. The function should take in the `soup` from a given html page and return a list of the availability for each book."
   ]
  },
  {
   "cell_type": "code",
   "execution_count": 30,
   "metadata": {},
   "outputs": [],
   "source": [
    "def retrieve_availabilities(soup):\n",
    "    warning = soup.find('div', class_=\"alert alert-warning\")\n",
    "    bookcontainer = warning.nextSibling.nextSibling\n",
    "    avail = [a.text.strip() for a in bookcontainer.findAll('p', class_=\"instock availability\")]\n",
    "    return avail"
   ]
  },
  {
   "cell_type": "markdown",
   "metadata": {},
   "source": [
    "## Create a Script to Retrieve All the Books From All 50 Pages\n",
    "\n",
    "Finally, write a script to retrieve all of the information from all 50 pages of the books.toscrape.com website. "
   ]
  },
  {
   "cell_type": "code",
   "execution_count": 4,
   "metadata": {},
   "outputs": [],
   "source": [
    "import requests\n",
    "import re\n",
    "from bs4 import BeautifulSoup\n",
    "import pandas as pd"
   ]
  },
  {
   "cell_type": "code",
   "execution_count": 31,
   "metadata": {},
   "outputs": [
    {
     "data": {
      "text/html": [
       "<div>\n",
       "<style scoped>\n",
       "    .dataframe tbody tr th:only-of-type {\n",
       "        vertical-align: middle;\n",
       "    }\n",
       "\n",
       "    .dataframe tbody tr th {\n",
       "        vertical-align: top;\n",
       "    }\n",
       "\n",
       "    .dataframe thead th {\n",
       "        text-align: right;\n",
       "    }\n",
       "</style>\n",
       "<table border=\"1\" class=\"dataframe\">\n",
       "  <thead>\n",
       "    <tr style=\"text-align: right;\">\n",
       "      <th></th>\n",
       "      <th>Title</th>\n",
       "      <th>Rating</th>\n",
       "      <th>Price</th>\n",
       "      <th>Available?</th>\n",
       "    </tr>\n",
       "  </thead>\n",
       "  <tbody>\n",
       "    <tr>\n",
       "      <th>0</th>\n",
       "      <td>A Light in the Attic</td>\n",
       "      <td>3</td>\n",
       "      <td>51.77</td>\n",
       "      <td>In stock</td>\n",
       "    </tr>\n",
       "    <tr>\n",
       "      <th>1</th>\n",
       "      <td>Tipping the Velvet</td>\n",
       "      <td>1</td>\n",
       "      <td>53.74</td>\n",
       "      <td>In stock</td>\n",
       "    </tr>\n",
       "    <tr>\n",
       "      <th>2</th>\n",
       "      <td>Soumission</td>\n",
       "      <td>1</td>\n",
       "      <td>50.1</td>\n",
       "      <td>In stock</td>\n",
       "    </tr>\n",
       "    <tr>\n",
       "      <th>3</th>\n",
       "      <td>Sharp Objects</td>\n",
       "      <td>4</td>\n",
       "      <td>47.82</td>\n",
       "      <td>In stock</td>\n",
       "    </tr>\n",
       "    <tr>\n",
       "      <th>4</th>\n",
       "      <td>Sapiens: A Brief History of Humankind</td>\n",
       "      <td>5</td>\n",
       "      <td>54.23</td>\n",
       "      <td>In stock</td>\n",
       "    </tr>\n",
       "  </tbody>\n",
       "</table>\n",
       "</div>"
      ],
      "text/plain": [
       "                                   Title Rating  Price Available?\n",
       "0                   A Light in the Attic      3  51.77   In stock\n",
       "1                     Tipping the Velvet      1  53.74   In stock\n",
       "2                             Soumission      1   50.1   In stock\n",
       "3                          Sharp Objects      4  47.82   In stock\n",
       "4  Sapiens: A Brief History of Humankind      5  54.23   In stock"
      ]
     },
     "execution_count": 31,
     "metadata": {},
     "output_type": "execute_result"
    }
   ],
   "source": [
    "titles = []\n",
    "avail = []\n",
    "prices = []\n",
    "ratings = []\n",
    "\n",
    "for i in range(1,51):\n",
    "    if i == 1:\n",
    "        url = \"http://books.toscrape.com/\"\n",
    "    else:\n",
    "        url = \"http://books.toscrape.com/catalogue/page-{}.html\".format(i)\n",
    "    htmlpage = requests.get(url)\n",
    "    soup = BeautifulSoup(htmlpage.content, 'html.parser')\n",
    "    titles += retrieve_titles(soup)\n",
    "    ratings += retrieve_ratings(soup)\n",
    "    prices += retrieve_prices(soup)\n",
    "    avail += retrieve_availabilities(soup)\n",
    "\n",
    "df = pd.DataFrame([titles, ratings, prices, avail]).transpose()\n",
    "df.columns = ['Title','Rating','Price','Available?']\n",
    "df.head()"
   ]
  },
  {
   "cell_type": "markdown",
   "metadata": {},
   "source": [
    "## Level-Up: Write a new version of the script you just wrote. \n",
    "\n",
    "If you used URL hacking to generate each successive page URL, instead write a function that retrieves the link from the `\"next\"` button at the bottom of the page. Conversely, if you already used this approach above, use URL-hacking (arguably the easier of the two methods in this case)."
   ]
  },
  {
   "cell_type": "code",
   "execution_count": null,
   "metadata": {},
   "outputs": [],
   "source": [
    "#Your code here"
   ]
  },
  {
   "cell_type": "markdown",
   "metadata": {},
   "source": [
    "## Summary\n",
    "\n",
    "Well done! You just completed your first full web scraping project! You're ready to start harnessing the power of the web!"
   ]
  }
 ],
 "metadata": {
  "kernelspec": {
   "display_name": "Python 3",
   "language": "python",
   "name": "python3"
  },
  "language_info": {
   "codemirror_mode": {
    "name": "ipython",
    "version": 3
   },
   "file_extension": ".py",
   "mimetype": "text/x-python",
   "name": "python",
   "nbconvert_exporter": "python",
   "pygments_lexer": "ipython3",
   "version": "3.6.9"
  }
 },
 "nbformat": 4,
 "nbformat_minor": 2
}
